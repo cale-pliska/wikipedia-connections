{
 "cells": [
  {
   "cell_type": "code",
   "execution_count": 1,
   "metadata": {},
   "outputs": [],
   "source": [
    "from selenium import webdriver\n",
    "import time\n",
    "from selenium.webdriver.common.by import By"
   ]
  },
  {
   "cell_type": "code",
   "execution_count": 2,
   "metadata": {},
   "outputs": [
    {
     "name": "stderr",
     "output_type": "stream",
     "text": [
      "C:\\Users\\calep\\AppData\\Local\\Temp\\ipykernel_15740\\701268254.py:1: DeprecationWarning: executable_path has been deprecated, please pass in a Service object\n",
      "  driver = webdriver.Chrome(executable_path='C:/Users/calep/OneDrive/Documents/Projects/Wikipedia Analyzer/chromedriver_win32/chromedriver.exe')\n"
     ]
    }
   ],
   "source": [
    "driver = webdriver.Chrome(executable_path='C:/Users/calep/OneDrive/Documents/Projects/Wikipedia Analyzer/chromedriver_win32/chromedriver.exe')"
   ]
  },
  {
   "cell_type": "code",
   "execution_count": 3,
   "metadata": {},
   "outputs": [],
   "source": [
    "url = \"https://en.m.wikipedia.org/w/index.php?hideprefix=20&mode=0&notranslations=&showcount=2&target=Mathematics&title=Special:CategoryTree\""
   ]
  },
  {
   "cell_type": "code",
   "execution_count": 4,
   "metadata": {},
   "outputs": [
    {
     "ename": "NoSuchWindowException",
     "evalue": "Message: no such window: target window already closed\nfrom unknown error: web view not found\n  (Session info: chrome=108.0.5359.125)\nStacktrace:\nBacktrace:\n\t(No symbol) [0x0057F243]\n\t(No symbol) [0x00507FD1]\n\t(No symbol) [0x003FD04D]\n\t(No symbol) [0x003E2D7A]\n\t(No symbol) [0x0044BE7B]\n\t(No symbol) [0x0045C196]\n\t(No symbol) [0x00448386]\n\t(No symbol) [0x0042163C]\n\t(No symbol) [0x0042269D]\n\tGetHandleVerifier [0x00819A22+2655074]\n\tGetHandleVerifier [0x0080CA24+2601828]\n\tGetHandleVerifier [0x00628C0A+619850]\n\tGetHandleVerifier [0x00627830+614768]\n\t(No symbol) [0x005105FC]\n\t(No symbol) [0x00515968]\n\t(No symbol) [0x00515A55]\n\t(No symbol) [0x0052051B]\n\tBaseThreadInitThunk [0x756400F9+25]\n\tRtlGetAppContainerNamedObjectPath [0x76FC7BBE+286]\n\tRtlGetAppContainerNamedObjectPath [0x76FC7B8E+238]\n",
     "output_type": "error",
     "traceback": [
      "\u001b[1;31m---------------------------------------------------------------------------\u001b[0m",
      "\u001b[1;31mNoSuchWindowException\u001b[0m                     Traceback (most recent call last)",
      "\u001b[1;32mc:\\Users\\calep\\Projects\\Wikipedia Analyzer\\github\\wikipedia-connections\\experiementation\\selenium\\selenium.ipynb Cell 4\u001b[0m in \u001b[0;36m<module>\u001b[1;34m\u001b[0m\n\u001b[1;32m----> <a href='vscode-notebook-cell:/c%3A/Users/calep/Projects/Wikipedia%20Analyzer/github/wikipedia-connections/experiementation/selenium/selenium.ipynb#W3sZmlsZQ%3D%3D?line=0'>1</a>\u001b[0m driver\u001b[39m.\u001b[39;49mget(url)\n\u001b[0;32m      <a href='vscode-notebook-cell:/c%3A/Users/calep/Projects/Wikipedia%20Analyzer/github/wikipedia-connections/experiementation/selenium/selenium.ipynb#W3sZmlsZQ%3D%3D?line=1'>2</a>\u001b[0m doms \u001b[39m=\u001b[39m driver\u001b[39m.\u001b[39mfind_elements(By\u001b[39m.\u001b[39mXPATH, \u001b[39m\"\u001b[39m\u001b[39m//span[contains(@title, \u001b[39m\u001b[39m'\u001b[39m\u001b[39mexpand\u001b[39m\u001b[39m'\u001b[39m\u001b[39m)]\u001b[39m\u001b[39m\"\u001b[39m)\n\u001b[0;32m      <a href='vscode-notebook-cell:/c%3A/Users/calep/Projects/Wikipedia%20Analyzer/github/wikipedia-connections/experiementation/selenium/selenium.ipynb#W3sZmlsZQ%3D%3D?line=2'>3</a>\u001b[0m \u001b[39mlen\u001b[39m(doms)\n",
      "File \u001b[1;32mc:\\Users\\calep\\anaconda3\\envs\\wikipedia\\lib\\site-packages\\selenium\\webdriver\\remote\\webdriver.py:455\u001b[0m, in \u001b[0;36mWebDriver.get\u001b[1;34m(self, url)\u001b[0m\n\u001b[0;32m    451\u001b[0m \u001b[39mdef\u001b[39;00m \u001b[39mget\u001b[39m(\u001b[39mself\u001b[39m, url: \u001b[39mstr\u001b[39m) \u001b[39m-\u001b[39m\u001b[39m>\u001b[39m \u001b[39mNone\u001b[39;00m:\n\u001b[0;32m    452\u001b[0m     \u001b[39m\"\"\"\u001b[39;00m\n\u001b[0;32m    453\u001b[0m \u001b[39m    Loads a web page in the current browser session.\u001b[39;00m\n\u001b[0;32m    454\u001b[0m \u001b[39m    \"\"\"\u001b[39;00m\n\u001b[1;32m--> 455\u001b[0m     \u001b[39mself\u001b[39;49m\u001b[39m.\u001b[39;49mexecute(Command\u001b[39m.\u001b[39;49mGET, {\u001b[39m\"\u001b[39;49m\u001b[39murl\u001b[39;49m\u001b[39m\"\u001b[39;49m: url})\n",
      "File \u001b[1;32mc:\\Users\\calep\\anaconda3\\envs\\wikipedia\\lib\\site-packages\\selenium\\webdriver\\remote\\webdriver.py:444\u001b[0m, in \u001b[0;36mWebDriver.execute\u001b[1;34m(self, driver_command, params)\u001b[0m\n\u001b[0;32m    442\u001b[0m response \u001b[39m=\u001b[39m \u001b[39mself\u001b[39m\u001b[39m.\u001b[39mcommand_executor\u001b[39m.\u001b[39mexecute(driver_command, params)\n\u001b[0;32m    443\u001b[0m \u001b[39mif\u001b[39;00m response:\n\u001b[1;32m--> 444\u001b[0m     \u001b[39mself\u001b[39;49m\u001b[39m.\u001b[39;49merror_handler\u001b[39m.\u001b[39;49mcheck_response(response)\n\u001b[0;32m    445\u001b[0m     response[\u001b[39m\"\u001b[39m\u001b[39mvalue\u001b[39m\u001b[39m\"\u001b[39m] \u001b[39m=\u001b[39m \u001b[39mself\u001b[39m\u001b[39m.\u001b[39m_unwrap_value(response\u001b[39m.\u001b[39mget(\u001b[39m\"\u001b[39m\u001b[39mvalue\u001b[39m\u001b[39m\"\u001b[39m, \u001b[39mNone\u001b[39;00m))\n\u001b[0;32m    446\u001b[0m     \u001b[39mreturn\u001b[39;00m response\n",
      "File \u001b[1;32mc:\\Users\\calep\\anaconda3\\envs\\wikipedia\\lib\\site-packages\\selenium\\webdriver\\remote\\errorhandler.py:249\u001b[0m, in \u001b[0;36mErrorHandler.check_response\u001b[1;34m(self, response)\u001b[0m\n\u001b[0;32m    247\u001b[0m         alert_text \u001b[39m=\u001b[39m value[\u001b[39m\"\u001b[39m\u001b[39malert\u001b[39m\u001b[39m\"\u001b[39m]\u001b[39m.\u001b[39mget(\u001b[39m\"\u001b[39m\u001b[39mtext\u001b[39m\u001b[39m\"\u001b[39m)\n\u001b[0;32m    248\u001b[0m     \u001b[39mraise\u001b[39;00m exception_class(message, screen, stacktrace, alert_text)  \u001b[39m# type: ignore[call-arg]  # mypy is not smart enough here\u001b[39;00m\n\u001b[1;32m--> 249\u001b[0m \u001b[39mraise\u001b[39;00m exception_class(message, screen, stacktrace)\n",
      "\u001b[1;31mNoSuchWindowException\u001b[0m: Message: no such window: target window already closed\nfrom unknown error: web view not found\n  (Session info: chrome=108.0.5359.125)\nStacktrace:\nBacktrace:\n\t(No symbol) [0x0057F243]\n\t(No symbol) [0x00507FD1]\n\t(No symbol) [0x003FD04D]\n\t(No symbol) [0x003E2D7A]\n\t(No symbol) [0x0044BE7B]\n\t(No symbol) [0x0045C196]\n\t(No symbol) [0x00448386]\n\t(No symbol) [0x0042163C]\n\t(No symbol) [0x0042269D]\n\tGetHandleVerifier [0x00819A22+2655074]\n\tGetHandleVerifier [0x0080CA24+2601828]\n\tGetHandleVerifier [0x00628C0A+619850]\n\tGetHandleVerifier [0x00627830+614768]\n\t(No symbol) [0x005105FC]\n\t(No symbol) [0x00515968]\n\t(No symbol) [0x00515A55]\n\t(No symbol) [0x0052051B]\n\tBaseThreadInitThunk [0x756400F9+25]\n\tRtlGetAppContainerNamedObjectPath [0x76FC7BBE+286]\n\tRtlGetAppContainerNamedObjectPath [0x76FC7B8E+238]\n"
     ]
    }
   ],
   "source": [
    "driver.get(url)\n",
    "doms = driver.find_elements(By.XPATH, \"//span[contains(@title, 'expand')]\")\n",
    "len(doms)\n"
   ]
  },
  {
   "cell_type": "code",
   "execution_count": null,
   "metadata": {},
   "outputs": [],
   "source": [
    "doms[0].click()\n",
    "inner = doms[0].find_elements(By.XPATH, \"//span[contains(@title, 'expand')]\")\n",
    "print(len(inner))\n",
    "inner[0].click()"
   ]
  },
  {
   "cell_type": "code",
   "execution_count": null,
   "metadata": {},
   "outputs": [],
   "source": [
    "doms[0].get_attribute(\"innerHTML\")"
   ]
  }
 ],
 "metadata": {
  "kernelspec": {
   "display_name": "Python 3.8.12 ('wikipedia')",
   "language": "python",
   "name": "python3"
  },
  "language_info": {
   "codemirror_mode": {
    "name": "ipython",
    "version": 3
   },
   "file_extension": ".py",
   "mimetype": "text/x-python",
   "name": "python",
   "nbconvert_exporter": "python",
   "pygments_lexer": "ipython3",
   "version": "3.8.12"
  },
  "orig_nbformat": 4,
  "vscode": {
   "interpreter": {
    "hash": "cea9a7960c80bad4cce524f7288755db93e8c13dff1fb89d24d03b869685747e"
   }
  }
 },
 "nbformat": 4,
 "nbformat_minor": 2
}
